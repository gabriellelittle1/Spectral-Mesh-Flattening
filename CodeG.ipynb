{
 "cells": [
  {
   "cell_type": "markdown",
   "metadata": {},
   "source": [
    "# Spectral Mesh Flattening"
   ]
  },
  {
   "cell_type": "markdown",
   "metadata": {},
   "source": [
    "by Ana + Gabrielle"
   ]
  },
  {
   "cell_type": "code",
   "execution_count": 58,
   "metadata": {},
   "outputs": [],
   "source": [
    "import trimesh\n",
    "import numpy as np"
   ]
  },
  {
   "cell_type": "code",
   "execution_count": 63,
   "metadata": {},
   "outputs": [],
   "source": [
    "face = trimesh.load(\"Face.obj\")"
   ]
  },
  {
   "cell_type": "code",
   "execution_count": 78,
   "metadata": {},
   "outputs": [],
   "source": [
    "def boundary(mesh):\n",
    "    \"\"\" A function to find the boundary edges and vertices of a mesh. \"\"\"\n",
    "\n",
    "    next_vertex = {}\n",
    "    boundary_edges = []\n",
    "    boundary_vertices = []\n",
    "\n",
    "    edges = mesh.edges\n",
    "    vertex_faces = mesh.vertex_faces\n",
    "\n",
    "    for i in range(len(edges)):\n",
    "\n",
    "        edge = edges[i]\n",
    "        v1, v2 = edge\n",
    "        v1_faces = [j for j in vertex_faces[v1] if j != -1]\n",
    "        v1v2_faces = [j for j in v1_faces if j in vertex_faces[v2]]\n",
    "        \n",
    "        if len(v1v2_faces) == 1:\n",
    "            \n",
    "            next_vertex[v1] = v2\n",
    "            boundary_edges  = boundary_edges + [edge]\n",
    "            boundary_vertices = boundary_vertices + [v1, v2]\n",
    "        \n",
    "    boundary_vertices = np.unique(np.array(boundary_vertices))\n",
    "    \n",
    "    return boundary_edges, boundary_vertices, next_vertex"
   ]
  },
  {
   "cell_type": "code",
   "execution_count": 81,
   "metadata": {},
   "outputs": [],
   "source": [
    "b_edges, b_verts, diction = boundary(face)"
   ]
  },
  {
   "cell_type": "code",
   "execution_count": null,
   "metadata": {},
   "outputs": [],
   "source": [
    "# def distance(v1, v2):\n",
    "\n",
    "#     return np.linalg.norm(v1 - v2)\n",
    "\n",
    "# def circle_boundary(mesh, centre = [0, 0], radius = 1):\n",
    "\n",
    "#     vertices = mesh.vertices\n",
    "#     edges = mesh.edges\n",
    "\n",
    "#     b_edges, b_verts = boundary(mesh)\n",
    "#     total_distance = 0\n",
    "#     angle_weights = []\n",
    "\n",
    "#     circumference = 2 * np.pi * radius\n",
    "    \n",
    "#     for i in b_edges:\n",
    "\n",
    "#         v1, v2 = edges[i]\n",
    "#         length = distance(v1, v2)\n",
    "#         total_distance += length\n",
    "#         angle_weights += \n",
    "\n",
    "    "
   ]
  }
 ],
 "metadata": {
  "kernelspec": {
   "display_name": "geo_tutorials",
   "language": "python",
   "name": "python3"
  },
  "language_info": {
   "codemirror_mode": {
    "name": "ipython",
    "version": 3
   },
   "file_extension": ".py",
   "mimetype": "text/x-python",
   "name": "python",
   "nbconvert_exporter": "python",
   "pygments_lexer": "ipython3",
   "version": "3.9.18"
  }
 },
 "nbformat": 4,
 "nbformat_minor": 2
}
