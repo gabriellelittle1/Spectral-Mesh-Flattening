{
 "cells": [
  {
   "cell_type": "markdown",
   "metadata": {},
   "source": [
    "# Spectral Mesh Flattening"
   ]
  },
  {
   "cell_type": "markdown",
   "metadata": {},
   "source": [
    "by Ana + Gabrielle"
   ]
  },
  {
   "cell_type": "code",
   "execution_count": 58,
   "metadata": {},
   "outputs": [],
   "source": [
    "import trimesh\n",
    "import numpy as np"
   ]
  },
  {
   "cell_type": "code",
   "execution_count": 59,
   "metadata": {},
   "outputs": [
    {
     "name": "stdout",
     "output_type": "stream",
     "text": [
      "[[   0    1    2]\n",
      " [   3    4    5]\n",
      " [   6    7    8]\n",
      " ...\n",
      " [1363 1365 1366]\n",
      " [1367 1368 1369]\n",
      " [1367 1369 1370]]\n",
      "[[ 977  976  975 ...   -1   -1   -1]\n",
      " [ 975  974  787 ...   -1   -1   -1]\n",
      " [ 977  785  782 ...   -1   -1   -1]\n",
      " ...\n",
      " [2516   -1   -1 ...   -1   -1   -1]\n",
      " [2517 2516   -1 ...   -1   -1   -1]\n",
      " [2517   -1   -1 ...   -1   -1   -1]]\n"
     ]
    }
   ],
   "source": [
    "face = trimesh.load(\"Face.obj\")\n",
    "print(face.faces)\n",
    "print(face.vertex_faces)"
   ]
  },
  {
   "cell_type": "code",
   "execution_count": 60,
   "metadata": {},
   "outputs": [],
   "source": [
    "def boundary(mesh):\n",
    "    \"\"\" A function to find the boundary edges and vertices of a mesh. \"\"\"\n",
    "\n",
    "    boundary_edges = []\n",
    "    boundary_vertices = []\n",
    "\n",
    "    edges = mesh.edges\n",
    "    faces = mesh.faces\n",
    "    vertex_faces = mesh.vertex_faces\n",
    "\n",
    "    for i in range(len(edges)):\n",
    "\n",
    "        edge = edges[i]\n",
    "        v1, v2 = edge\n",
    "        v1_faces = [j for j in vertex_faces[v1] if j != -1]\n",
    "        v1v2_faces = [j for j in v1_faces if j in vertex_faces[v2]]\n",
    "        \n",
    "        if len(v1v2_faces) == 1:\n",
    "            boundary_edges  = boundary_edges + [edge]\n",
    "            boundary_vertices = boundary_vertices + [v1, v2]\n",
    "        \n",
    "    boundary_vertices = np.unique(np.array(boundary_vertices))\n",
    "    \n",
    "    return boundary_edges, boundary_vertices"
   ]
  }
 ],
 "metadata": {
  "kernelspec": {
   "display_name": "geo_tutorials",
   "language": "python",
   "name": "python3"
  },
  "language_info": {
   "codemirror_mode": {
    "name": "ipython",
    "version": 3
   },
   "file_extension": ".py",
   "mimetype": "text/x-python",
   "name": "python",
   "nbconvert_exporter": "python",
   "pygments_lexer": "ipython3",
   "version": "3.9.18"
  }
 },
 "nbformat": 4,
 "nbformat_minor": 2
}
